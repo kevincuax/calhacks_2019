{
 "cells": [
  {
   "cell_type": "code",
   "execution_count": 5,
   "metadata": {},
   "outputs": [],
   "source": [
    "from pyautogui import press, typewrite, hotkey\n"
   ]
  },
  {
   "cell_type": "code",
   "execution_count": 12,
   "metadata": {},
   "outputs": [
    {
     "name": "stdout",
     "output_type": "stream",
     "text": [
      "Please enter your question(type 'Q' to quit)HI\n",
      "Please enter the answer to the questionHELLO\n",
      "Please enter your question(type 'Q' to quit)YES\n",
      "Please enter the answer to the questionNO\n",
      "Please enter your question(type 'Q' to quit)Q\n"
     ]
    }
   ],
   "source": [
    "\n",
    "def create_dict():\n",
    "    isRunning = True\n",
    "    #dict for questions and answers\n",
    "    dict = {}\n",
    "    while isRunning:\n",
    "        question = input(\"Please enter your question(type 'Q' to quit)\")\n",
    "        if question == 'Q':\n",
    "            isRunning = False\n",
    "            break\n",
    "        if question in dict.keys():\n",
    "            print(\"You already submitted this question\")\n",
    "        else:\n",
    "            answer = input(\"Please enter the answer to the question\")\n",
    "            dict[question] = answer\n",
    "    return dict\n",
    "\n",
    "dict = create_dict()\n"
   ]
  },
  {
   "cell_type": "code",
   "execution_count": 13,
   "metadata": {},
   "outputs": [
    {
     "name": "stdout",
     "output_type": "stream",
     "text": [
      "Quizzing you! Type 'Q' to quit\n",
      "HIHELLO\n",
      "Correct!\n",
      "YESNO\n",
      "Correct!\n",
      "HIHELLO\n",
      "Correct!\n",
      "YESQ\n"
     ]
    }
   ],
   "source": [
    "def quiz_user(dict):\n",
    "    isRunning = True\n",
    "    print(\"Quizzing you! Type 'Q' to quit\")\n",
    "    while isRunning:\n",
    "        for question, answer in dict.items():\n",
    "            userAnswer = input(question)\n",
    "            if userAnswer == 'Q':\n",
    "                return\n",
    "            if userAnswer == dict[question]:\n",
    "                print(\"Correct!\")\n",
    "            else:\n",
    "                print(\"Incorrect, the answer is %s\", dict[question])\n",
    "\n",
    "quiz_user(dict)"
   ]
  },
  {
   "cell_type": "code",
   "execution_count": 9,
   "metadata": {},
   "outputs": [
    {
     "name": "stdout",
     "output_type": "stream",
     "text": [
      "quick brown fox\n"
     ]
    }
   ],
   "source": []
  }
 ],
 "metadata": {
  "kernelspec": {
   "display_name": "Python 3",
   "language": "python",
   "name": "python3"
  },
  "language_info": {
   "codemirror_mode": {
    "name": "ipython",
    "version": 3
   },
   "file_extension": ".py",
   "mimetype": "text/x-python",
   "name": "python",
   "nbconvert_exporter": "python",
   "pygments_lexer": "ipython3",
   "version": "3.7.3"
  }
 },
 "nbformat": 4,
 "nbformat_minor": 2
}
